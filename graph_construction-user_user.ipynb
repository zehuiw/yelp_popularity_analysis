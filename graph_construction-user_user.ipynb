{
 "cells": [
  {
   "cell_type": "code",
   "execution_count": 1,
   "metadata": {},
   "outputs": [],
   "source": [
    "import snap\n",
    "import json\n",
    "import collections\n",
    "import matplotlib.pyplot as plt\n",
    "import pickle\n",
    "import numpy as np\n",
    "# import networkx as nx"
   ]
  },
  {
   "cell_type": "code",
   "execution_count": 2,
   "metadata": {},
   "outputs": [],
   "source": [
    "business_path = '../yelp_dataset/yelp_academic_dataset_business.json'\n",
    "user_path = '/home/yilong/yelp_dataset/yelp_academic_dataset_user.json'\n",
    "review_path = '../yelp_dataset/yelp_academic_dataset_review.json'\n",
    "tip_path = '../yelp_dataset/yelp_academic_dataset_tip.json'\n",
    "review_small_path = '../yelp_dataset/review_small.json'\n",
    "user_small_path = '/home/yilong/yelp_dataset/user_small.json'\n",
    "business_small_path = '../yelp_dataset/business_small.json'\n",
    "tip_small_path = '../yelp_dataset/tip_small.json'"
   ]
  },
  {
   "cell_type": "code",
   "execution_count": 3,
   "metadata": {},
   "outputs": [],
   "source": [
    "def find_users(path):\n",
    "    print 'begin parsing users...'\n",
    "    users = collections.defaultdict() # uid: (elite, friends)\n",
    "    elite_users = set()\n",
    "    \n",
    "    with open(path) as json_file:\n",
    "        for line in json_file:\n",
    "            raw = json.loads(line)\n",
    "            if raw['elite'] != 'None':\n",
    "                elite = raw['elite'].split(', ')\n",
    "                elite_users.add(raw['user_id'])\n",
    "            else:\n",
    "                elite = []\n",
    "\n",
    "            users[raw['user_id']] = (elite, raw['average_stars'], raw['review_count'])\n",
    "\n",
    "    print 'done.'\n",
    "    return users, elite_users"
   ]
  },
  {
   "cell_type": "code",
   "execution_count": 4,
   "metadata": {},
   "outputs": [],
   "source": [
    "def find_friends(path):\n",
    "    print 'begin parsing users...'\n",
    "    user_friends = collections.defaultdict(list) # {uid : [friends]}\n",
    "    with open(path) as json_file:\n",
    "        for line in json_file:\n",
    "            raw = json.loads(line)\n",
    "            if raw['friends'] != 'None':\n",
    "                user_friends[raw['user_id']] = raw['friends'].split(', ')\n",
    "    print 'done.'\n",
    "    return user_friends"
   ]
  },
  {
   "cell_type": "code",
   "execution_count": 6,
   "metadata": {},
   "outputs": [],
   "source": [
    "def construct_user_graph(users, elite_users, user_friends):\n",
    "    print \"# of users, # of elite users, # of users that has friends = %d, %d, %d\" %(len(users),len(elite_users),len(user_friends))\n",
    "\n",
    "    G = snap.TUNGraph.New()\n",
    "    uid2node = {}\n",
    "    \n",
    "    print \"Adding users...\"\n",
    "    for uid in users:\n",
    "        uid2node[uid] =  G.AddNode(-1)\n",
    "    print \"Adding friends...\"\n",
    "    for uid in user_friends:\n",
    "        for friend in user_friends[uid]:\n",
    "#             if friend not in users:\n",
    "#                 uid2node[friend] =  G.AddNode(-1)\n",
    "#             G.AddEdge(uid2node[uid], uid2node[friend])\n",
    "            if friend in users:\n",
    "                G.AddEdge(uid2node[uid], uid2node[friend])\n",
    "\n",
    "    print \"# Nodes = %d\" %G.GetNodes()\n",
    "    print \"# Edges = %d\" %G.GetEdges()\n",
    "    return G, uid2node"
   ]
  },
  {
   "cell_type": "code",
   "execution_count": 12,
   "metadata": {},
   "outputs": [],
   "source": [
    "# users, elite_users = find_users(user_small_path)\n",
    "# with open('users_small.pkl', 'wb') as f:\n",
    "#     pickle.dump(users, f)\n",
    "# with open('elite_users_small.pkl', 'wb') as f:\n",
    "#     pickle.dump(elite_users, f)\n",
    "\n",
    "# user_friends = find_friends(user_small_path)\n",
    "# with open('user_friends_small.pkl', 'wb') as f:\n",
    "#     pickle.dump(user_friends, f)"
   ]
  },
  {
   "cell_type": "code",
   "execution_count": 23,
   "metadata": {},
   "outputs": [],
   "source": [
    "# users, elite_users = find_users(user_path)\n",
    "# with open('users.pkl', 'wb') as f:\n",
    "#     pickle.dump(users, f)\n",
    "# with open('elite_users.pkl', 'wb') as f:\n",
    "#     pickle.dump(elite_users, f)"
   ]
  },
  {
   "cell_type": "code",
   "execution_count": 7,
   "metadata": {},
   "outputs": [],
   "source": [
    "with open('users.pkl', 'rb') as f:\n",
    "    users = pickle.load(f)\n",
    "with open('elite_users.pkl', 'rb') as f:\n",
    "    elite_users = pickle.load(f)\n",
    "    \n",
    "with open('user_friends.pkl', 'rb') as f:\n",
    "    user_friends = pickle.load(f)\n",
    "# print elite_users\n",
    "# print users['B3xwUPXMlCb7_5IEDlq4Uw'][1]\n",
    "# print user_friends[\"B3xwUPXMlCb7_5IEDlq4Uw\"]"
   ]
  },
  {
   "cell_type": "code",
   "execution_count": 15,
   "metadata": {},
   "outputs": [
    {
     "name": "stdout",
     "output_type": "stream",
     "text": [
      "# of users, # of elite users, # of users that has friends = 1518169, 67109, 879891\n",
      "Adding users...\n",
      "Adding friends...\n",
      "# Nodes = 1518169\n",
      "# Edges = 6619057\n"
     ]
    }
   ],
   "source": [
    "G, uid2node = construct_user_graph(users, elite_users, user_friends)\n",
    "elite_ids = [uid2node[i] for i in elite_users]"
   ]
  },
  {
   "cell_type": "code",
   "execution_count": null,
   "metadata": {},
   "outputs": [],
   "source": [
    "# def plot_user_graph(G, elite_ids):    \n",
    "# #     NIdColorH = snap.TIntStrH()\n",
    "# #     for node in G.Nodes():\n",
    "# #         idx = node.GetId()\n",
    "# #         NIdColorH[idx] = 'green'\n",
    "# #     for eid in elite_ids:\n",
    "# #         NIdColorH[eid] = 'red'\n",
    "\n",
    "# #     snap.DrawGViz(G, snap.gvlDot, 'user-user/All-users.png', \"User-User\", False, NIdColorH)\n",
    "#     Gnx = nx.Graph()\n",
    "#     print \"adding nodes...\"\n",
    "#     for node in G.Nodes():\n",
    "#         nodeId = node.GetId()\n",
    "#         Gnx.add_node(nodeId)\n",
    "#     print \"adding edges...\"\n",
    "#     for EI in G.Edges(): # Edge traversal\n",
    "#         Gnx.add_edge(EI.GetSrcNId(), EI.GetDstNId())\n",
    "#     print \"# Gnx Nodes = %d\" %Gnx.number_of_nodes()\n",
    "#     print \"# Gnx Edges = %d\" %Gnx.number_of_edges()\n",
    "    \n",
    "#     plt.Figure()\n",
    "#     nx.draw(Gnx, with_labels=False, font_weight='bold')\n",
    "#     plt.savefig('user-user/All_users_nx.png')\n",
    "#     plt.show()\n",
    "    \n",
    "# plot_user_graph(G, elite_ids)"
   ]
  },
  {
   "cell_type": "code",
   "execution_count": null,
   "metadata": {},
   "outputs": [],
   "source": [
    "def plot_ego_graph(G, elite_ids):\n",
    "    for ite in range(20):\n",
    "        eid = np.random.choice(elite_ids)\n",
    "        print eid\n",
    "        node = G.GetNI(eid)\n",
    "        deg = node.GetDeg()\n",
    "        \n",
    "        NIdV = snap.TIntV()\n",
    "        NIdV.Add(eid)\n",
    "        nbrs = []\n",
    "        for i in range(deg):\n",
    "            nbr = node.GetNbrNId(i)\n",
    "            nbrs.append(nbr)\n",
    "            NIdV.Add(nbr)\n",
    "        egoNet = snap.GetSubGraph(G, NIdV)\n",
    "#         NodeVec1 = snap.TIntV()\n",
    "#         snap.GetNodesAtHop(G, eid, 1, NodeVec1, False)\n",
    "#         NodeVec2 = snap.TIntV()\n",
    "#         snap.GetNodesAtHop(G, eid, 2, NodeVec2, False)\n",
    "#         for i in range(0, NodeVec1.Len()):\n",
    "#             NodeVec2.Add(NodeVec1[i])                \n",
    "#         egoNet = snap.GetSubGraph(G, NodeVec2)    \n",
    "        NIdColorH = snap.TIntStrH()\n",
    "        for node in egoNet.Nodes():\n",
    "            idx = node.GetId()\n",
    "            if idx in elite_ids:\n",
    "                NIdColorH[idx] = 'red'\n",
    "            else:\n",
    "                NIdColorH[idx] = 'blue'\n",
    "        NIdColorH[eid] = 'purple'\n",
    "        snap.DrawGViz(egoNet, snap.gvlDot, 'elite_user_ego/Elite-user-ego_'+ str(ite)+ '.png', str(eid), False, NIdColorH)\n",
    "\n",
    "plot_ego_graph(G, elite_ids)"
   ]
  },
  {
   "cell_type": "code",
   "execution_count": 35,
   "metadata": {},
   "outputs": [
    {
     "name": "stdout",
     "output_type": "stream",
     "text": [
      "done degree dist of all nodes\n",
      "average degree of all users = 8.719789\n",
      "average degree of elite users = 77.259250\n"
     ]
    },
    {
     "data": {
      "image/png": "[encoded data removed]",
      "text/plain": [
       "<Figure size 432x288 with 1 Axes>"
      ]
     },
     "metadata": {
      "needs_background": "light"
     },
     "output_type": "display_data"
    }
   ],
   "source": [
    "def plot_degree_dist(G, elite_ids):\n",
    "\n",
    "    DegToCntV = snap.TIntPrV()\n",
    "    snap.GetDegCnt(G, DegToCntV)\n",
    "    deg = []\n",
    "    count = []\n",
    "    for item in DegToCntV:\n",
    "        deg.append(item.GetVal1())\n",
    "        count.append(item.GetVal2())\n",
    "    print \"done degree dist of all nodes\"\n",
    "    ave_deg = sum([deg[i]*count[i] for i in range(len(deg))]) * 1.0 / sum(count)\n",
    "    print 'average degree of all users = %f'  %ave_deg\n",
    "    \n",
    "    deg_elite, count_elite = [], []\n",
    "    degree_elite = collections.defaultdict(int)\n",
    "    for elite in elite_ids:\n",
    "        node = G.GetNI(elite) \n",
    "        d = node.GetDeg()\n",
    "        degree_elite[d] += 1\n",
    "\n",
    "    for key in degree_elite:\n",
    "        if key != 0:\n",
    "            deg_elite.append(key)\n",
    "            count_elite.append(degree_elite[key])\n",
    "    ave_deg_elite = sum([deg_elite[i]*count_elite[i] for i in range(len(deg_elite))]) * 1.0 / len(elite_ids)\n",
    "    print 'average degree of elite users = %f'  %ave_deg_elite\n",
    "            \n",
    "    plt.plot(deg[2:], count[2:],'.', deg_elite[1:],count_elite[1:], '.')\n",
    "    plt.xscale('log')\n",
    "    plt.yscale('log')\n",
    "    plt.xlabel('Node Degree',fontsize=16)\n",
    "    plt.ylabel('Number of Nodes',fontsize=16)\n",
    "#     plt.title('Degree Distribution')\n",
    "    plt.xticks(size=16)\n",
    "    plt.yticks(size=16)\n",
    "    plt.legend([\"All users\", \"Elite users\"],fontsize=16)\n",
    "    plt.subplots_adjust(left=0.2,bottom = 0.2)\n",
    "    plt.savefig('user-user/Degree_dist_elite.png')\n",
    "    plt.show()\n",
    "    \n",
    "plot_degree_dist(G, elite_ids)"
   ]
  },
  {
   "cell_type": "code",
   "execution_count": 34,
   "metadata": {},
   "outputs": [
    {
     "name": "stdout",
     "output_type": "stream",
     "text": [
      "Calculating clustering coefficient...\n",
      "Done calculating clustering coefficient...\n",
      "average clustering coefficient of all users = 0.043183\n",
      "average clustering coefficient of elite users = 0.171807\n"
     ]
    },
    {
     "data": {
      "image/png": "[encoded data removed]",
      "text/plain": [
       "<Figure size 432x288 with 1 Axes>"
      ]
     },
     "metadata": {
      "needs_background": "light"
     },
     "output_type": "display_data"
    }
   ],
   "source": [
    "def plot_clustering_coeff(G, elite_ids):\n",
    "    print \"Calculating clustering coefficient...\"\n",
    "    NIdCCfH = snap.TIntFltH()\n",
    "    snap.GetNodeClustCf(G, NIdCCfH)\n",
    "    cluster_c = []\n",
    "    cluster_c_elite = []\n",
    "    \n",
    "    for item in NIdCCfH:\n",
    "        cluster_c.append(NIdCCfH[item])\n",
    "    print \"Done calculating clustering coefficient...\"\n",
    "    ave_cc = 1.0* sum(cluster_c)/len(cluster_c)\n",
    "    print 'average clustering coefficient of all users = %f'  %ave_cc\n",
    "    \n",
    "    for elite in elite_ids:\n",
    "        cluster_c_elite.append(NIdCCfH[elite])\n",
    "    ave_cc_elite = 1.0* sum(cluster_c_elite)/len(cluster_c_elite)\n",
    "    print 'average clustering coefficient of elite users = %f'  %ave_cc_elite\n",
    "    \n",
    "    cluster_c.sort()\n",
    "    cluster_c_elite.sort()\n",
    "    fraction = np.array(range(1,len(cluster_c)+1))/(len(cluster_c)+1.0)\n",
    "    fraction_elite = np.array(range(1,len(cluster_c_elite)+1))/(len(cluster_c_elite)+1.0)\n",
    "    \n",
    "    plt.figure()\n",
    "    plt.plot(cluster_c, fraction,'.', cluster_c_elite, fraction_elite,'.')\n",
    "    \n",
    "    plt.xlim([0.01,1])\n",
    "    plt.xticks(np.arange(0, 1.2, 0.2))\n",
    "    \n",
    "    plt.xlabel('Clustering coefficient',fontsize=16)\n",
    "    plt.ylabel('Fraction of nodes',fontsize=16)\n",
    "    plt.legend([\"All users\", \"Elite users\"],fontsize=16)\n",
    "    plt.xticks(size=16)\n",
    "    plt.yticks(size=16)\n",
    "    plt.subplots_adjust(left=0.2,bottom = 0.2)\n",
    "    plt.savefig('user-user/Clustering_coeff_elite.png')\n",
    "    plt.show()\n",
    "    \n",
    "plot_clustering_coeff(G, elite_ids)"
   ]
  },
  {
   "cell_type": "code",
   "execution_count": 33,
   "metadata": {},
   "outputs": [
    {
     "name": "stdout",
     "output_type": "stream",
     "text": [
      "Calculating clustering coefficient...\n",
      "Done calculating clustering coefficient...\n",
      "average clustering coefficient of all users = 0.043183\n",
      "average clustering coefficient of elite users = 0.171807\n"
     ]
    },
    {
     "name": "stderr",
     "output_type": "stream",
     "text": [
      "/yagami/lyl/hw2-bundle/env/lib/python2.7/site-packages/ipykernel_launcher.py:19: DeprecationWarning: The normed argument is ignored when density is provided. In future passing both will result in an error.\n",
      "/yagami/lyl/hw2-bundle/env/lib/python2.7/site-packages/ipykernel_launcher.py:22: DeprecationWarning: The normed argument is ignored when density is provided. In future passing both will result in an error.\n"
     ]
    },
    {
     "data": {
      "image/png": "[encoded data removed]",
      "text/plain": [
       "<Figure size 432x288 with 1 Axes>"
      ]
     },
     "metadata": {
      "needs_background": "light"
     },
     "output_type": "display_data"
    }
   ],
   "source": [
    "def plot_clustering_coeff_hist(G, elite_ids):\n",
    "    print \"Calculating clustering coefficient...\"\n",
    "    NIdCCfH = snap.TIntFltH()\n",
    "    snap.GetNodeClustCf(G, NIdCCfH)\n",
    "    cluster_c = []\n",
    "    cluster_c_elite = []\n",
    "    \n",
    "    for item in NIdCCfH:\n",
    "        cluster_c.append(NIdCCfH[item])\n",
    "    print \"Done calculating clustering coefficient...\"\n",
    "    ave_cc = 1.0* sum(cluster_c)/len(cluster_c)\n",
    "    print 'average clustering coefficient of all users = %f'  %ave_cc\n",
    "    \n",
    "    for elite in elite_ids:\n",
    "        cluster_c_elite.append(NIdCCfH[elite])\n",
    "    ave_cc_elite = 1.0* sum(cluster_c_elite)/len(cluster_c_elite)\n",
    "    print 'average clustering coefficient of elite users = %f'  %ave_cc_elite\n",
    "    \n",
    "    cc, bins = np.histogram(cluster_c, bins = np.arange(-0.1, 1.1, 0.1), normed=1, density = 1)\n",
    "    density_cc = cc/cc.sum()\n",
    "    \n",
    "    cc_elite, bins_elite = np.histogram(cluster_c_elite, bins = np.arange(-0.1, 1.1, 0.1), normed=1, density = 1)\n",
    "    density_cc_elite = cc_elite/cc_elite.sum()\n",
    "    \n",
    "    plt.figure()\n",
    "    plt.bar(bins[1:],density_cc,width = 0.03)\n",
    "    plt.bar(bins_elite[1:]+0.03,density_cc_elite,width = 0.03)\n",
    "    \n",
    "#     plt.xlim([0.01,1])\n",
    "#     plt.xticks(np.arange(0, 1.2, 0.2))\n",
    "    \n",
    "    plt.xlabel('Clustering coefficient',fontsize=12)\n",
    "    plt.ylabel('Fraction of nodes',fontsize=12)\n",
    "    plt.legend([\"All users\", \"Elite users\"],fontsize=12)\n",
    "    plt.subplots_adjust(left=0.2,bottom = 0.2)\n",
    "    plt.savefig('user-user/Clustering_coeff_elite_hist.png')\n",
    "    plt.show()\n",
    "    \n",
    "plot_clustering_coeff_hist(G, elite_ids)"
   ]
  },
  {
   "cell_type": "code",
   "execution_count": 32,
   "metadata": {},
   "outputs": [
    {
     "name": "stderr",
     "output_type": "stream",
     "text": [
      "/yagami/lyl/hw2-bundle/env/lib/python2.7/site-packages/ipykernel_launcher.py:16: DeprecationWarning: The normed argument is ignored when density is provided. In future passing both will result in an error.\n",
      "  app.launch_new_instance()\n",
      "/yagami/lyl/hw2-bundle/env/lib/python2.7/site-packages/ipykernel_launcher.py:19: DeprecationWarning: The normed argument is ignored when density is provided. In future passing both will result in an error.\n"
     ]
    },
    {
     "data": {
      "image/png": "[encoded data removed]",
      "text/plain": [
       "<Figure size 432x288 with 1 Axes>"
      ]
     },
     "metadata": {
      "needs_background": "light"
     },
     "output_type": "display_data"
    }
   ],
   "source": [
    "def plot_review_count(users, elite_users):\n",
    "    score = []\n",
    "    count = []\n",
    "    for i in users:\n",
    "        score.append(users[i][1])\n",
    "        count.append(users[i][2])\n",
    "    \n",
    "    score_elite = []\n",
    "    count_elite = []\n",
    "    \n",
    "    for i in elite_users:\n",
    "\n",
    "        score_elite.append(users[i][1])\n",
    "        count_elite.append(users[i][2])\n",
    "    \n",
    "    density_score, bins = np.histogram(score, bins = np.arange(1, 5.2, 0.25), normed=1, density = 1)\n",
    "    density_score = density_score/density_score.sum()\n",
    "    \n",
    "    density_score_elite, bins_elite = np.histogram(score_elite, bins = np.arange(1, 5.2, 0.25), normed=1, density = 1)\n",
    "    density_score_elite = density_score_elite/density_score_elite.sum()\n",
    "    \n",
    "    plt.figure()\n",
    "    plt.bar(bins[1:],density_score,width = 0.1)\n",
    "    plt.bar(bins_elite[1:]+0.1,density_score_elite,width = 0.1)\n",
    "    plt.xlabel('Average ratings',fontsize=16)\n",
    "    plt.ylabel('Density of users',fontsize=16)\n",
    "    plt.xticks(size=16)\n",
    "    plt.yticks(size=16)\n",
    "    plt.subplots_adjust(left=0.2,bottom = 0.2)\n",
    "    plt.legend([\"All users\", \"Elite users\"],fontsize=16)\n",
    "    plt.savefig('user-user/score.png')\n",
    "    plt.show()\n",
    "\n",
    "plot_review_count(users, elite_users)"
   ]
  },
  {
   "cell_type": "code",
   "execution_count": 14,
   "metadata": {},
   "outputs": [
    {
     "data": {
      "image/png": "[encoded data removed]",
      "text/plain": [
       "<Figure size 432x288 with 1 Axes>"
      ]
     },
     "metadata": {
      "needs_background": "light"
     },
     "output_type": "display_data"
    }
   ],
   "source": [
    "def plot_elite_percent(G, elite_ids):\n",
    "\n",
    "#     DegToCntV = snap.TIntPrV()\n",
    "#     snap.GetDegCnt(G, DegToCntV)\n",
    "#     deg = []\n",
    "#     count = []\n",
    "#     for item in DegToCntV:\n",
    "#         deg.append(item.GetVal1())\n",
    "#         count.append(item.GetVal2())\n",
    "#     print \"done degree dist of all nodes\"\n",
    "    \n",
    "    deg_elite, percent_elite_friend = [], []\n",
    "    degree_elite = collections.defaultdict(int)\n",
    "    elite_friend = collections.defaultdict(int)\n",
    "    for elite in elite_ids:\n",
    "        node = G.GetNI(elite) \n",
    "        d = node.GetDeg()\n",
    "        degree_elite[d] += 1\n",
    "        for i in range(d):\n",
    "            nbr = node.GetNbrNId(i)\n",
    "            if nbr in elite_ids:\n",
    "                elite_friend[d] += 1\n",
    "\n",
    "    for key in degree_elite:\n",
    "        if key != 0:\n",
    "            percent = 1.0 * elite_friend[d] / (key * degree_elite[key])\n",
    "            deg_elite.append(key)\n",
    "            \n",
    "            percent_elite_friend.append(percent)\n",
    "            \n",
    "    plt.plot(deg_elite[1:],percent_elite_friend[1:], '.')\n",
    "    plt.xscale('log')\n",
    "#     plt.yscale('log')\n",
    "    plt.xlabel('Node Degree')\n",
    "    plt.ylabel('Average percent of elite friend')\n",
    "#     plt.title('Degree Distribution')\n",
    "    plt.legend([\"All users\", \"Elite users\"])\n",
    "    \n",
    "    plt.savefig('user-user/Percent_elite.png')\n",
    "    plt.show()\n",
    "    \n",
    "plot_elite_percent(G, elite_ids)"
   ]
  },
  {
   "cell_type": "code",
   "execution_count": 10,
   "metadata": {},
   "outputs": [],
   "source": [
    "FOut = snap.TFOut(\"All_users_2.graph\")\n",
    "G.Save(FOut)\n",
    "FOut.Flush()"
   ]
  },
  {
   "cell_type": "code",
   "execution_count": 2,
   "metadata": {},
   "outputs": [],
   "source": [
    "FIn = snap.TFIn(\"All_users_2.graph\")\n",
    "G = snap.TUNGraph.Load(FIn)"
   ]
  },
  {
   "cell_type": "code",
   "execution_count": null,
   "metadata": {},
   "outputs": [],
   "source": []
  }
 ],
 "metadata": {
  "kernelspec": {
   "display_name": "Python 2",
   "language": "python",
   "name": "python2"
  },
  "language_info": {
   "codemirror_mode": {
    "name": "ipython",
    "version": 2
   },
   "file_extension": ".py",
   "mimetype": "text/x-python",
   "name": "python",
   "nbconvert_exporter": "python",
   "pygments_lexer": "ipython2",
   "version": "2.7.12"
  }
 },
 "nbformat": 4,
 "nbformat_minor": 2
}
