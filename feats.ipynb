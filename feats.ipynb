{
 "cells": [
  {
   "cell_type": "code",
   "execution_count": 25,
   "metadata": {},
   "outputs": [],
   "source": [
    "import snap\n",
    "import json\n",
    "import collections\n",
    "import matplotlib.pyplot as plt\n",
    "import networkx as nx\n",
    "import pickle\n",
    "import numpy as np"
   ]
  },
  {
   "cell_type": "code",
   "execution_count": 2,
   "metadata": {},
   "outputs": [],
   "source": [
    "business_path = '../yelp/yelp_academic_dataset_business.json'\n",
    "user_path = '../yelp/yelp_academic_dataset_user.json'\n",
    "review_path = '../yelp/yelp_academic_dataset_review.json'\n",
    "tip_path = '../yelp/yelp_academic_dataset_tip.json'\n",
    "review_small_path = '../yelp/review_small.json'\n",
    "user_small_path = '../yelp/user_small.json'\n",
    "business_small_path = '../yelp/business_small.json'\n",
    "tip_small_path = '../yelp/tip_small.json'"
   ]
  },
  {
   "cell_type": "code",
   "execution_count": 5,
   "metadata": {},
   "outputs": [],
   "source": [
    "# def find_reviews(path, path2):\n",
    "#     print 'begin parsing reviews and tips...'\n",
    "#     business_reviews = collections.defaultdict(list) # bid: [(uid, date)]\n",
    "#     reviews = {} # review_id: (b_id, u_id, date)\n",
    "#     with open(path) as json_file:\n",
    "#         for line in json_file:\n",
    "#             raw = json.loads(line)\n",
    "#             reviews[raw['review_id']] = (raw['business_id'], raw['user_id'], raw['date'])\n",
    "#             business_reviews[raw['business_id']].append((raw['user_id'], raw['date']))\n",
    "            \n",
    "#     # path2: tip\n",
    "#     with open(path2) as json_file:\n",
    "#         for line in json_file:\n",
    "#             raw = json.loads(line)\n",
    "#             business_reviews[raw['business_id']].append((raw['user_id'], raw['date']))\n",
    "#     print 'done.'\n",
    "#     return business_reviews, reviews"
   ]
  },
  {
   "cell_type": "code",
   "execution_count": 6,
   "metadata": {},
   "outputs": [],
   "source": [
    "# def find_friends(path):\n",
    "#     print 'begin parsing users...'\n",
    "#     user_friends = collections.defaultdict(list) # {uid : [friends]}\n",
    "#     with open(path) as json_file:\n",
    "#         for line in json_file:\n",
    "#             raw = json.loads(line)\n",
    "#             if raw['friends'] != 'None':\n",
    "#                 user_friends[raw['user_id']] = raw['friends'].split(', ')\n",
    "#     print 'done.'\n",
    "#     return user_friends"
   ]
  },
  {
   "cell_type": "code",
   "execution_count": 7,
   "metadata": {},
   "outputs": [],
   "source": [
    "# def find_elites(path):\n",
    "#     print 'begin parsing users...'\n",
    "# #     user_friends = collections.defaultdict(list) # {uid : [friends]}\n",
    "#     elite_class = {}\n",
    "#     with open(path) as json_file:\n",
    "#         for line in json_file:\n",
    "#             raw = json.loads(line)\n",
    "# #             if raw['friends'] != 'None':\n",
    "# #                 user_friends[raw['user_id']] = raw['friends'].split(', ')\n",
    "#             if raw['elite'] != 'None':\n",
    "#                 elite_years = raw['elite'].split(', ')\n",
    "#                 if len(elite_years) > 0:\n",
    "#                     elite_class[raw['user_id']] = True\n",
    "#                 else:\n",
    "#                     elite_class[raw['user_id']] = False\n",
    "#     print 'done.'\n",
    "#     return elite_class  "
   ]
  },
  {
   "cell_type": "code",
   "execution_count": 9,
   "metadata": {},
   "outputs": [],
   "source": [
    "def find_users(path):\n",
    "    print 'begin parsing users...'\n",
    "    users = collections.defaultdict() # uid: [review_count, year, friends, elite, \n",
    "    #average_stars, useful, funny, cool, fans]\n",
    "    \n",
    "    with open(path) as json_file:\n",
    "        for line in json_file:\n",
    "            raw = json.loads(line)\n",
    "            year = int(raw['yelping_since'][:4])\n",
    "\n",
    "            users[raw['user_id']] = (raw['review_count'], year, len(raw['friends']),len(raw['elite']),raw['average_stars'],\n",
    "                                     raw['useful'],raw['funny'],raw['cool'],raw['fans'])\n",
    "\n",
    "    print 'done.'\n",
    "    return users"
   ]
  },
  {
   "cell_type": "code",
   "execution_count": 40,
   "metadata": {},
   "outputs": [],
   "source": [
    "def nx_gather_business_cascades_feats(path, business_reviews, user_friends, elite_class,user_feats):\n",
    "    test = 0\n",
    "    print 'begin generating graphs...'\n",
    "    with open(path) as json_file:\n",
    "        for line in json_file:\n",
    "            raw = json.loads(line)\n",
    "            city = raw['city']\n",
    "            bid = raw['business_id']\n",
    "            G, nid2int, class_map, feats = nx_construct_local_graph_feats(business_reviews[bid], user_friends, elite_class,user_feats)\n",
    "            \n",
    "            if len(list(G.node)) < 15:\n",
    "                continue\n",
    "            \n",
    "            test += 1\n",
    "            print test\n",
    "#             data1 = nx.readwrite.json_graph.node_link_data(G)\n",
    "#             with open('GraphSAGE_input/' + bid + '-id_map.json', 'w') as fmap:\n",
    "#                 json.dump(nid2int, fmap)\n",
    "#             with open('GraphSAGE_input/' + bid + '-G.json', 'w') as fg:\n",
    "#                 json.dump(data1, fg)\n",
    "#             with open('GraphSAGE_input/' + bid + '-class_map.json', 'w') as fg:\n",
    "#                 json.dump(class_map, fg)\n",
    "\n",
    "            np.save('GraphSAGE_input/' + bid + '-feats', feats)\n",
    "                \n",
    "            if test > 3:\n",
    "                break\n",
    "    print 'done.'"
   ]
  },
  {
   "cell_type": "code",
   "execution_count": 15,
   "metadata": {},
   "outputs": [],
   "source": [
    "def nx_construct_local_graph_feats(business_review, user_friends, elite_class,user_feats):\n",
    "    G = nx.Graph()\n",
    "\n",
    "    cleaned = {} # uid : time\n",
    "    nid2int = {}\n",
    "    class_map = {}\n",
    "    G = nx.Graph()\n",
    "    for uid, date in business_review:\n",
    "        if len(user_friends[uid]) > 0:\n",
    "            cleaned[uid] = date\n",
    "#             uid2node[uid] =  G.AddNode(-1)\n",
    "    for uid in cleaned:\n",
    "        for friend in user_friends[uid]:\n",
    "            if friend in cleaned and cleaned[friend] > cleaned[uid]:\n",
    "                u_label = [1] if uid in elite_class else [0]\n",
    "                f_label = [1] if friend in elite_class else[0]\n",
    "                G.add_node(uid, label=u_label)\n",
    "                G.add_node(friend, label=f_label)\n",
    "                G.add_edge(uid, friend)\n",
    "                class_map[uid] = u_label[0]\n",
    "                class_map[friend] = f_label[0]\n",
    "    mapped_int = 0\n",
    "    feats = []\n",
    "    for idx, nid in enumerate(list(G.node)):\n",
    "        if idx >= len(list(G.node)) * 0.85:\n",
    "            G.node[nid]['test'] = True\n",
    "            G.node[nid]['val'] = False\n",
    "        elif idx >= len(list(G.node)) * 0.7:\n",
    "            G.node[nid]['val'] = True\n",
    "            G.node[nid]['test'] = False\n",
    "        else:\n",
    "            G.node[nid]['test'] = False\n",
    "            G.node[nid]['val'] = False            \n",
    "        nid2int[nid] = mapped_int\n",
    "        \n",
    "        # feats\n",
    "        feats.append(user_feats[nid])\n",
    "        \n",
    "        mapped_int += 1\n",
    "    return G, nid2int, class_map, np.array(feats)"
   ]
  },
  {
   "cell_type": "code",
   "execution_count": 37,
   "metadata": {},
   "outputs": [
    {
     "name": "stdout",
     "output_type": "stream",
     "text": [
      "begin parsing users...\n",
      "done.\n",
      "begin parsing reviews and tips...\n",
      "done.\n",
      "begin parsing users...\n",
      "done.\n",
      "begin parsing users...\n",
      "done.\n"
     ]
    }
   ],
   "source": [
    "# import pickle\n",
    "# user_friends = find_friends(user_small_path)\n",
    "# business_reviews, reviews = find_reviews(review_small_path, tip_small_path)\n",
    "# elite_class = find_elites(user_small_path)\n",
    "# with open('business_reviews.pkl', 'wb') as f:\n",
    "#     pickle.dump(business_reviews, f)\"\"\n",
    "# with open('user_friends.pkl', 'wb') as f:\n",
    "#     pickle.dump(user_friends, f)\n",
    "# with open('elite_class.pkl', 'wb') as f:\n",
    "#     pickle.dump(elite_class, f)\n",
    "\n",
    "# user_feats = find_users(user_path)\n",
    "# with open('user-feats.pkl', 'wb') as f:\n",
    "#     pickle.dump(user_feats, f)"
   ]
  },
  {
   "cell_type": "code",
   "execution_count": 38,
   "metadata": {},
   "outputs": [],
   "source": [
    "business_reviews = business_reviews = collections.defaultdict(list)\n",
    "user_friends = collections.defaultdict(list) # {uid : [friends]}\n",
    "with open('business_reviews.pkl', 'rb') as f:\n",
    "    business_reviews = pickle.load(f)\n",
    "with open('user_friends.pkl', 'rb') as f:\n",
    "    user_friends = pickle.load(f)\n",
    "with open('elite_class.pkl', 'rb') as f:\n",
    "    elite_class = pickle.load(f)\n",
    "\n",
    "with open('user-feats.pkl', 'wb') as f:\n",
    "    user_feats = pickle.load(f)"
   ]
  },
  {
   "cell_type": "code",
   "execution_count": 41,
   "metadata": {},
   "outputs": [
    {
     "name": "stdout",
     "output_type": "stream",
     "text": [
      "begin generating graphs...\n",
      "1\n",
      "2\n",
      "3\n",
      "4\n",
      "done.\n"
     ]
    }
   ],
   "source": [
    "nx_gather_business_cascades_feats(business_path, business_reviews, user_friends, elite_class,user_feats)"
   ]
  },
  {
   "cell_type": "code",
   "execution_count": null,
   "metadata": {},
   "outputs": [],
   "source": []
  }
 ],
 "metadata": {
  "kernelspec": {
   "display_name": "Python 2",
   "language": "python",
   "name": "python2"
  },
  "language_info": {
   "codemirror_mode": {
    "name": "ipython",
    "version": 2
   },
   "file_extension": ".py",
   "mimetype": "text/x-python",
   "name": "python",
   "nbconvert_exporter": "python",
   "pygments_lexer": "ipython2",
   "version": "2.7.12"
  }
 },
 "nbformat": 4,
 "nbformat_minor": 2
}
